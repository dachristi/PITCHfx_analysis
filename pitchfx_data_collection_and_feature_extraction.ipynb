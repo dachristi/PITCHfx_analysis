{
 "cells": [
  {
   "cell_type": "code",
   "execution_count": null,
   "metadata": {
    "collapsed": true
   },
   "outputs": [],
   "source": [
    "'''pitchfx_data_collection.py\n",
    "\n",
    "David Christiansen\n",
    "1/18/16\n",
    "\n",
    "1. Collect pitcherf/x data from gd2.mlb.com.\n",
    "2. Allocate data for each batter --- write all batter-specific data to a file.\n",
    "\n",
    "'''"
   ]
  },
  {
   "cell_type": "code",
   "execution_count": 28,
   "metadata": {
    "collapsed": true
   },
   "outputs": [],
   "source": [
    "import requests, re\n",
    "from os import listdirt\n",
    "from bs4 import BeautifulSoup\n",
    "import numpy as np\n",
    "import pandas as pd\n",
    "from datetime import datetime\n",
    "from bokeh.plotting import figure, output_file, show\n",
    "from bokeh.io import output_notebook\n",
    "\n"
   ]
  },
  {
   "cell_type": "markdown",
   "metadata": {},
   "source": [
    "Web-Scraping and Data Acquisition"
   ]
  },
  {
   "cell_type": "code",
   "execution_count": null,
   "metadata": {
    "collapsed": true
   },
   "outputs": [],
   "source": [
    "# Get the list of URLs for the range of specified dates\n",
    "base_url = 'http://gd2.mlb.com/components/game/mlb/'\n",
    "year = '2014'\n",
    "\n",
    "#GameDay - 404 Not Found\n",
    "# base + year\n",
    "# http://gd2.mlb.com/components/game/mlb/year_2014/ \n",
    "\n",
    "# base + year + month\n",
    "# http://gd2.mlb.com/components/game/mlb/year_2014/month_06/\n",
    "# http://gd2.mlb.com/components/game/mlb/year_2014/month_06/day_11/\n",
    "# http://gd2.mlb.com/components/game/mlb/year_2014/month_06/day_11/gid_2014_06_11_slnmlb_tbamlb_1/\n",
    "# http://gd2.mlb.com/components/game/mlb/year_2014/month_06/day_11/gid_2014_06_11_slnmlb_tbamlb_1/inning/\n",
    "#http://gd2.mlb.com/components/game/mlb/year_2014/month_06/day_11/gid_2014_06_11_slnmlb_tbamlb_1/inning/inning_all.xml\n",
    "\n",
    "r = requests.get(base_url + 'year_' + year)\n",
    "r.text\n",
    "soup1 = BeautifulSoup(r.text, 'html')"
   ]
  },
  {
   "cell_type": "code",
   "execution_count": null,
   "metadata": {
    "collapsed": true
   },
   "outputs": [],
   "source": [
    "\n",
    "months = [ re.sub(' ', '', t.text) for t in soup1.select('a') if t.text.startswith(' month') ]\n",
    "\n",
    "\n",
    "for month in months:\n",
    "    print month\n",
    "    r = requests.get(base_url + 'year_' + year + '/' + month)\n",
    "    #print r.text\n",
    "    soup2 = BeautifulSoup(r.text, 'html')\n",
    "    days = [ re.sub(' ', '', d.text) for d in soup2.select('a') if d.text.startswith(' day')]\n",
    "    for day in days:\n",
    "        s = requests.get(base_url + 'year_' + year + '/' + month  + day)\n",
    "        soup3 = BeautifulSoup(s.text, 'html')\n",
    "        games = [ re.sub(' ', '', g.text) for g in soup3.select('a') if g.text.startswith(' gid')]\n",
    "        if games != []:\n",
    "            for game in games:\n",
    "                t = requests.get(base_url + 'year_' + year + '/' + month  + day + game + 'inning/inning_all.xml')\n",
    "                #soup4 = BeautifulSoup(t.text, 'xml')\n",
    "                # store the game in a file\n",
    "                #print t.text\n",
    "                with open(\"web_page_data/\" + re.sub('/', '', game) + \".txt\", \"wb\") as file:    \n",
    "                    file.write(t.text.encode('utf-8'))"
   ]
  },
  {
   "cell_type": "markdown",
   "metadata": {
    "collapsed": false
   },
   "source": [
    "Feature Extraction and Data Alocation"
   ]
  },
  {
   "cell_type": "code",
   "execution_count": 9,
   "metadata": {
    "collapsed": false
   },
   "outputs": [],
   "source": [
    "# feature extraction function\n",
    "\n",
    "def feature_extract(pitch):\n",
    "    batter = re.findall('batter=\"(.*?)\"', str(at_bat))[0]\n",
    "    pitcher = re.findall('pitcher=\"(.*?)\"', str(at_bat))[0]\n",
    "    ax = re.findall('ax=\"(.*?)\"', str(pitch))[0]\n",
    "    ay = re.findall('ay=\"(.*?)\"', str(pitch))[0]\n",
    "    az = re.findall('az=\"(.*?)\"', str(pitch))[0]\n",
    "    break_angle = re.findall('break_angle=\"(.*?)\"', str(pitch))[0]\n",
    "    break_length = re.findall('break_length=\"(.*?)\"', str(pitch))[0]\n",
    "    break_y = re.findall('break_y=\"(.*?)\"', str(pitch))[0]\n",
    "    cc = re.findall('cc=\"(.*?)\"', str(pitch))[0]\n",
    "    des = re.findall('des=\"(.*?)\"', str(pitch))[0]\n",
    "    end_speed = re.findall('end_speed=\"(.*?)\"', str(pitch))[0]\n",
    "    #event_num = re.findall('event_num=\"(.*?)\"', str(pitch))[0]\n",
    "    ID = re.findall(' id=\"(.*?)\"', str(pitch))[0]\n",
    "    mt = re.findall('mt=\"(.*?)\"', str(pitch))[0]\n",
    "    nasty = re.findall('nasty=\"(.*?)\"', str(pitch))[0]\n",
    "    pfx_x = re.findall('pfx_x=\"(.*?)\"', str(pitch))[0]\n",
    "    pfx_z = re.findall('pfx_z=\"(.*?)\"', str(pitch))[0]\n",
    "    pitch_type = re.findall('pitch_type=\"(.*?)\"', str(pitch))[0]\n",
    "    #play_guid = re.findall('play_guid=\"(.*?)\"', str(pitch))[0]\n",
    "    px = re.findall('px=\"(.*?)\"', str(pitch))[0]\n",
    "    pz = re.findall('pz=\"(.*?)\"', str(pitch))[0]\n",
    "    spin_dir = re.findall('spin_dir=\"(.*?)\"', str(pitch))[0]\n",
    "    spin_rate = re.findall('spin_rate=\"(.*?)\"', str(pitch))[0]\n",
    "    break_y = re.findall('break_y=\"(.*?)\"', str(pitch))[0]\n",
    "    start_speed = re.findall('start_speed=\"(.*?)\"', str(pitch))[0]\n",
    "    sv_id = re.findall('sv_id=\"(.*?)\"', str(pitch))[0]\n",
    "    sz_bot = re.findall('sz_bot=\"(.*?)\"', str(pitch))[0]\n",
    "    sz_top = re.findall('sz_top=\"(.*?)\"', str(pitch))[0]\n",
    "    tfs = re.findall('tfs=\"(.*?)\"', str(pitch))[0]\n",
    "\n",
    "    tfs_zulu = re.findall('tfs_zulu=\"(.*?)\"', str(pitch))[0]\n",
    "    tfs_zulu = re.sub('T', ' ', tfs_zulu)\n",
    "    tfs_zulu = re.sub('Z', '', tfs_zulu)\n",
    "\n",
    "    Type = re.findall(' type=\"(.*?)\"', str(pitch))[0]\n",
    "    type_confidence = re.findall(' type_confidence=\"(.*?)\"', str(pitch))[0]\n",
    "    vx0 = re.findall(' vx0=\"(.*?)\"', str(pitch))[0]\n",
    "    vy0 = re.findall(' vy0=\"(.*?)\"', str(pitch))[0]\n",
    "    vz0 = re.findall(' vz0=\"(.*?)\"', str(pitch))[0]\n",
    "    x = re.findall(' x=\"(.*?)\"', str(pitch))[0]\n",
    "    x0 = re.findall(' x0=\"(.*?)\"', str(pitch))[0]\n",
    "    y = re.findall(' y=\"(.*?)\"', str(pitch))[0]\n",
    "    y0 = re.findall(' y0=\"(.*?)\"', str(pitch))[0]\n",
    "    z0 = re.findall(' z0=\"(.*?)\"', str(pitch))[0]\n",
    "    zone = re.findall('zone=\"(.*?)\"', str(pitch))[0]\n",
    "\n",
    "    profile = [batter, pitcher, ax, ay, az, break_angle, break_length, break_y,\\\n",
    "               des, end_speed, ID, mt, nasty, pfx_x, pfx_z, pitch_type,\\\n",
    "               px, pz, spin_dir, spin_rate, start_speed, sv_id, sz_bot, sz_top, tfs,\\\n",
    "               tfs_zulu, Type, type_confidence, vx0, vy0, vz0, x, x0, y, y0, z0, zone]\n",
    "    return profile\n",
    "\n",
    "\n",
    "#profile2 = feature_extract(str(pitch))\n",
    "columns = ['batter', 'pitcher', 'ax', 'ay', 'az', 'break_angle', 'break_length', 'break_y',\\\n",
    "               'des', 'end_speed', 'ID', 'mt', 'nasty', 'pfx_x', 'pfx_z', 'pitch_type',\\\n",
    "               'px', 'pz', 'spin_dir', 'spin_rate', 'start_speed', 'sv_id', 'sz_bot', 'sz_top', 'tfs',\\\n",
    "               'tfs_zulu', 'Type', 'type_confidence', 'vx0', 'vy0', 'vz0', 'x', 'x0', 'y', 'y0', 'z0', 'zone']\n",
    "\n",
    "# deleted event_num, play_guid"
   ]
  },
  {
   "cell_type": "code",
   "execution_count": 10,
   "metadata": {
    "collapsed": false
   },
   "outputs": [
    {
     "name": "stdout",
     "output_type": "stream",
     "text": [
      "2\n",
      "0 of 2\n",
      "False\n",
      "False\n",
      "False\n",
      "False\n",
      "False\n",
      "False\n",
      "False\n",
      "False\n",
      "False\n",
      "False\n",
      "False\n",
      "False\n",
      "False\n",
      "False\n",
      "False\n",
      "True\n",
      "True\n",
      "True\n",
      "True\n",
      "True\n",
      "True\n",
      "False\n",
      "False\n",
      "False\n",
      "True\n",
      "True\n",
      "True\n",
      "True\n",
      "True\n",
      "True\n",
      "True\n",
      "True\n",
      "True\n",
      "True\n",
      "True\n",
      "True\n",
      "True\n",
      "True\n",
      "True\n",
      "True\n",
      "True\n",
      "True\n",
      "False\n",
      "True\n",
      "True\n",
      "True\n",
      "True\n",
      "True\n",
      "True\n",
      "True\n",
      "True\n",
      "True\n",
      "True\n",
      "True\n",
      "True\n",
      "True\n",
      "False\n",
      "True\n",
      "True\n",
      "True\n",
      "True\n",
      "True\n",
      "True\n",
      "False\n",
      "True\n",
      "True\n",
      "True\n",
      "False\n",
      "False\n",
      "False\n",
      "False\n",
      "False\n",
      "False\n",
      "False\n",
      "False\n",
      "False\n",
      "False\n",
      "False\n",
      "False\n",
      "False\n",
      "False\n",
      "False\n",
      "False\n",
      "True\n",
      "True\n",
      "False\n",
      "False\n",
      "True\n",
      "True\n",
      "True\n",
      "True\n",
      "True\n",
      "True\n",
      "True\n",
      "True\n",
      "True\n",
      "True\n",
      "True\n",
      "True\n",
      "True\n",
      "True\n",
      "True\n",
      "True\n",
      "True\n",
      "True\n",
      "True\n",
      "True\n",
      "True\n",
      "True\n",
      "True\n",
      "True\n",
      "True\n",
      "True\n",
      "True\n",
      "True\n",
      "True\n",
      "True\n",
      "True\n",
      "True\n",
      "True\n",
      "True\n",
      "True\n",
      "True\n",
      "True\n",
      "True\n",
      "True\n",
      "True\n",
      "True\n",
      "True\n",
      "True\n",
      "True\n",
      "True\n",
      "True\n",
      "True\n",
      "True\n",
      "True\n"
     ]
    }
   ],
   "source": [
    "opening_date = datetime.strptime('2014 05 02', '%Y %m %d')\n",
    "files = [ file for file in listdir('web_page_data') if file.endswith('.txt') and \\\n",
    "            datetime.strptime( re.findall('gid_(.{10})', file)[0].replace('_', ' '), '%Y %m %d' ) \\\n",
    "             >= opening_date ]\n",
    "\n",
    "i = 0\n",
    "bad_data = []\n",
    "print len(files)\n",
    "\n",
    "for file in files:\n",
    "    with open( 'web_page_data/'+file, 'rb') as f:\n",
    "        html_content = f.read()\n",
    "    soup = BeautifulSoup(html_content, 'html')\n",
    "    if i%100==0: print i, 'of', len(files)\n",
    "    i += 1\n",
    "    for at_bat in soup.findAll('atbat'):\n",
    "        x = []\n",
    "        batter = re.findall('batter=\"(.+?)\"', str(at_bat))\n",
    "        pitcher = re.findall('pitcher=\"(.+?)\"', str(at_bat))\n",
    "        for pitch in at_bat.findAll('pitch'):\n",
    "            try:\n",
    "                x.append(feature_extract(pitch))\n",
    "            except:\n",
    "                bad_data.append([pitch])\n",
    "                continue\n",
    "        at_bat_data = pd.DataFrame(x)\n",
    "        at_bat_data.columns = columns\n",
    "        batter_file = str(batter[0])+'.csv'\n",
    "        if batter_file in listdir('batter_data'):\n",
    "            print 'True'\n",
    "            at_bat_data.to_csv('batter_data/'+batter_file, header=False, mode='a', index=False)\n",
    "        else:\n",
    "            print 'False'\n",
    "            at_bat_data.to_csv('batter_data/'+batter_file, header=True, mode='a', index=False)\n"
   ]
  },
  {
   "cell_type": "code",
   "execution_count": null,
   "metadata": {
    "collapsed": true
   },
   "outputs": [],
   "source": []
  },
  {
   "cell_type": "code",
   "execution_count": null,
   "metadata": {
    "collapsed": true
   },
   "outputs": [],
   "source": [
    "bad_data"
   ]
  },
  {
   "cell_type": "code",
   "execution_count": 16,
   "metadata": {
    "collapsed": false
   },
   "outputs": [],
   "source": [
    "#listdir('batter_data')"
   ]
  },
  {
   "cell_type": "code",
   "execution_count": null,
   "metadata": {
    "collapsed": false
   },
   "outputs": [],
   "source": []
  },
  {
   "cell_type": "code",
   "execution_count": 12,
   "metadata": {
    "collapsed": false
   },
   "outputs": [],
   "source": [
    "batter = pd.read_csv('batter_data/136767.csv', header=0)"
   ]
  },
  {
   "cell_type": "code",
   "execution_count": 39,
   "metadata": {
    "collapsed": false
   },
   "outputs": [
    {
     "data": {
      "text/html": [
       "<div>\n",
       "<table border=\"1\" class=\"dataframe\">\n",
       "  <thead>\n",
       "    <tr style=\"text-align: right;\">\n",
       "      <th></th>\n",
       "      <th>des</th>\n",
       "      <th>zone</th>\n",
       "    </tr>\n",
       "  </thead>\n",
       "  <tbody>\n",
       "    <tr>\n",
       "      <th>0</th>\n",
       "      <td>Swinging Strike</td>\n",
       "      <td>11</td>\n",
       "    </tr>\n",
       "    <tr>\n",
       "      <th>1</th>\n",
       "      <td>Called Strike</td>\n",
       "      <td>1</td>\n",
       "    </tr>\n",
       "    <tr>\n",
       "      <th>2</th>\n",
       "      <td>Foul</td>\n",
       "      <td>11</td>\n",
       "    </tr>\n",
       "    <tr>\n",
       "      <th>3</th>\n",
       "      <td>Ball</td>\n",
       "      <td>12</td>\n",
       "    </tr>\n",
       "    <tr>\n",
       "      <th>4</th>\n",
       "      <td>Foul</td>\n",
       "      <td>2</td>\n",
       "    </tr>\n",
       "    <tr>\n",
       "      <th>5</th>\n",
       "      <td>In play, out(s)</td>\n",
       "      <td>12</td>\n",
       "    </tr>\n",
       "  </tbody>\n",
       "</table>\n",
       "</div>"
      ],
      "text/plain": [
       "               des  zone\n",
       "0  Swinging Strike    11\n",
       "1    Called Strike     1\n",
       "2             Foul    11\n",
       "3             Ball    12\n",
       "4             Foul     2\n",
       "5  In play, out(s)    12"
      ]
     },
     "execution_count": 39,
     "metadata": {},
     "output_type": "execute_result"
    }
   ],
   "source": [
    "batter[['des', 'zone']]\n",
    "\n"
   ]
  },
  {
   "cell_type": "code",
   "execution_count": null,
   "metadata": {
    "collapsed": false
   },
   "outputs": [],
   "source": []
  },
  {
   "cell_type": "code",
   "execution_count": null,
   "metadata": {
    "collapsed": true
   },
   "outputs": [],
   "source": [
    "class ColumnSelectTransformer(sk.base.BaseEstimator, sk.base.TransformerMixin):\n",
    "    def __init__(self, c1, c2):\n",
    "        self.c1 = c1\n",
    "        self.c2 = c2\n",
    "        return\n",
    "\n",
    "    def fit(self, X, y=None):\n",
    "        return self\n",
    "\n",
    "    def transform(self, X):\n",
    "        self.transformed_df = X[[self.c1, self.c2]]\n",
    "        return self.transformed_df "
   ]
  },
  {
   "cell_type": "code",
   "execution_count": null,
   "metadata": {
    "collapsed": true
   },
   "outputs": [],
   "source": []
  },
  {
   "cell_type": "code",
   "execution_count": null,
   "metadata": {
    "collapsed": true
   },
   "outputs": [],
   "source": [
    "x = ColumnSelectTransformer('latitude', 'longitude')\n",
    "X = x.transform(d)\n",
    "y = list(d.stars)\n",
    "X.head()"
   ]
  },
  {
   "cell_type": "code",
   "execution_count": null,
   "metadata": {
    "collapsed": true
   },
   "outputs": [],
   "source": [
    "\n",
    "#print X\n",
    "from sklearn.neighbors import KNeighborsRegressor\n",
    "neigh = KNeighborsRegressor(n_neighbors=40, weights='uniform')\n",
    "\n",
    "neigh.fit(X, y)\n",
    "\n",
    "with open('question2.dill', 'wb') as f:\n",
    "    dill.dump(neigh, f)\n",
    "with open('../question2.dill', 'wb') as f:\n",
    "    dill.dump(neigh, f)\n",
    "\n",
    "#KNeighborsRegressor(n_neighbors=5, weights='uniform', algorithm='auto', leaf_size=30, p=2, metric='minkowski', metric_params=None, n_jobs=1)\n",
    "print(neigh.predict([35,-110]))\n",
    "#[ 0.5]"
   ]
  },
  {
   "cell_type": "code",
   "execution_count": null,
   "metadata": {
    "collapsed": true
   },
   "outputs": [],
   "source": [
    "output_notebook()\n",
    "\n"
   ]
  },
  {
   "cell_type": "code",
   "execution_count": 31,
   "metadata": {
    "collapsed": false
   },
   "outputs": [
    {
     "data": {
      "text/plain": [
       "<bokeh.plotting.Figure at 0x1089d3310>"
      ]
     },
     "execution_count": 31,
     "metadata": {},
     "output_type": "execute_result"
    }
   ],
   "source": [
    "x = [ 1, 2, 3, 4, 5]\n",
    "y = [ 1, 4, 9, 16, 25]\n",
    "\n",
    "\n",
    "# output to static HTML file\n",
    "#output_file(\"lines.html\", title=\"line plot example\")\n",
    "\n",
    "# create a new plot with a title and axis labels\n",
    "p = figure(title=\"simple line example\", x_axis_label='x', y_axis_label='y')\n",
    "\n",
    "# add a line renderer with legend and line thickness\n",
    "p.line(x, y, legend=\"Temp.\", line_width=2)\n",
    "\n",
    "# show the results\n"
   ]
  },
  {
   "cell_type": "code",
   "execution_count": 33,
   "metadata": {
    "collapsed": false
   },
   "outputs": [
    {
     "ename": "NameError",
     "evalue": "name 'session' is not defined",
     "output_type": "error",
     "traceback": [
      "\u001b[0;31m---------------------------------------------------------------------------\u001b[0m",
      "\u001b[0;31mNameError\u001b[0m                                 Traceback (most recent call last)",
      "\u001b[0;32m<ipython-input-33-9960c09da52a>\u001b[0m in \u001b[0;36m<module>\u001b[0;34m()\u001b[0m\n\u001b[0;32m----> 1\u001b[0;31m \u001b[0msession\u001b[0m\u001b[0;34m.\u001b[0m\u001b[0mshow\u001b[0m\u001b[0;34m(\u001b[0m\u001b[0mp\u001b[0m\u001b[0;34m)\u001b[0m\u001b[0;34m\u001b[0m\u001b[0m\n\u001b[0m",
      "\u001b[0;31mNameError\u001b[0m: name 'session' is not defined"
     ]
    }
   ],
   "source": []
  },
  {
   "cell_type": "code",
   "execution_count": null,
   "metadata": {
    "collapsed": true
   },
   "outputs": [],
   "source": []
  },
  {
   "cell_type": "code",
   "execution_count": null,
   "metadata": {
    "collapsed": true
   },
   "outputs": [],
   "source": []
  },
  {
   "cell_type": "code",
   "execution_count": null,
   "metadata": {
    "collapsed": true
   },
   "outputs": [],
   "source": []
  },
  {
   "cell_type": "code",
   "execution_count": null,
   "metadata": {
    "collapsed": true
   },
   "outputs": [],
   "source": []
  },
  {
   "cell_type": "code",
   "execution_count": null,
   "metadata": {
    "collapsed": true
   },
   "outputs": [],
   "source": []
  },
  {
   "cell_type": "code",
   "execution_count": null,
   "metadata": {
    "collapsed": true
   },
   "outputs": [],
   "source": []
  },
  {
   "cell_type": "code",
   "execution_count": null,
   "metadata": {
    "collapsed": true
   },
   "outputs": [],
   "source": []
  },
  {
   "cell_type": "code",
   "execution_count": null,
   "metadata": {
    "collapsed": true
   },
   "outputs": [],
   "source": []
  },
  {
   "cell_type": "code",
   "execution_count": null,
   "metadata": {
    "collapsed": true
   },
   "outputs": [],
   "source": []
  },
  {
   "cell_type": "code",
   "execution_count": null,
   "metadata": {
    "collapsed": true
   },
   "outputs": [],
   "source": []
  },
  {
   "cell_type": "code",
   "execution_count": null,
   "metadata": {
    "collapsed": true
   },
   "outputs": [],
   "source": []
  },
  {
   "cell_type": "code",
   "execution_count": null,
   "metadata": {
    "collapsed": true
   },
   "outputs": [],
   "source": []
  },
  {
   "cell_type": "code",
   "execution_count": null,
   "metadata": {
    "collapsed": true
   },
   "outputs": [],
   "source": []
  },
  {
   "cell_type": "code",
   "execution_count": null,
   "metadata": {
    "collapsed": true
   },
   "outputs": [],
   "source": []
  },
  {
   "cell_type": "code",
   "execution_count": null,
   "metadata": {
    "collapsed": false
   },
   "outputs": [],
   "source": []
  }
 ],
 "metadata": {
  "kernelspec": {
   "display_name": "Python 2",
   "language": "python",
   "name": "python2"
  },
  "language_info": {
   "codemirror_mode": {
    "name": "ipython",
    "version": 2
   },
   "file_extension": ".py",
   "mimetype": "text/x-python",
   "name": "python",
   "nbconvert_exporter": "python",
   "pygments_lexer": "ipython2",
   "version": "2.7.10"
  }
 },
 "nbformat": 4,
 "nbformat_minor": 0
}
